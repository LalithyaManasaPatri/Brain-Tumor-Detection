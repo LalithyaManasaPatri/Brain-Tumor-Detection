{
 "cells": [
  {
   "cell_type": "code",
   "execution_count": 1,
   "metadata": {},
   "outputs": [],
   "source": [
    "import numpy as np\n",
    "import pandas as pd\n",
    "import os\n",
    "\n",
    "import matplotlib.pyplot as plt\n",
    "import tensorflow as tf\n",
    "from tensorflow.keras.utils import to_categorical\n",
    "from tensorflow.keras.preprocessing.image import load_img, img_to_array\n",
    "from tensorflow.python.keras.preprocessing.image import ImageDataGenerator\n",
    "from sklearn.metrics import classification_report, log_loss, accuracy_score\n",
    "from sklearn.model_selection import train_test_split"
   ]
  },
  {
   "cell_type": "code",
   "execution_count": 2,
   "metadata": {},
   "outputs": [],
   "source": [
    "directory = 'C:/Users/DELL/Desktop/FDA PROJECT/Dataset/Training'\n",
    "directory2 = 'C:/Users/DELL/Desktop/FDA PROJECT/Dataset/Testing'"
   ]
  },
  {
   "cell_type": "code",
   "execution_count": 3,
   "metadata": {},
   "outputs": [
    {
     "name": "stdout",
     "output_type": "stream",
     "text": [
      "['glioma_tumor', 'meningioma_tumor', 'no_tumor', 'pituitary_tumor']\n"
     ]
    }
   ],
   "source": [
    "File=[]\n",
    "for file in os.listdir(directory):\n",
    "    File+=[file]\n",
    "print(File)"
   ]
  },
  {
   "cell_type": "code",
   "execution_count": 4,
   "metadata": {},
   "outputs": [],
   "source": [
    "dataset=[]\n",
    "mapping={'no_tumor':0, 'pituitary_tumor':1, 'meningioma_tumor':2, 'glioma_tumor':3}\n",
    "count=0\n",
    "\n",
    "for file in os.listdir(directory):\n",
    "    path=os.path.join(directory,file)\n",
    "    for im in os.listdir(path):\n",
    "        image=load_img(os.path.join(path,im), grayscale=False, color_mode='rgb', target_size=(150,150))\n",
    "        image=img_to_array(image)\n",
    "        image=image/255.0\n",
    "        dataset.append([image,count])     \n",
    "    count=count+1"
   ]
  },
  {
   "cell_type": "code",
   "execution_count": 5,
   "metadata": {},
   "outputs": [],
   "source": [
    "testset=[]\n",
    "mapping={'no_tumor':0, 'pituitary_tumor':1, 'meningioma_tumor':2, 'glioma_tumor':3}\n",
    "count=0\n",
    "\n",
    "for file in os.listdir(directory2):\n",
    "    path=os.path.join(directory2,file)\n",
    "    for im in os.listdir(path):\n",
    "        image=load_img(os.path.join(path,im), grayscale=False, color_mode='rgb', target_size=(150,150))\n",
    "        image=img_to_array(image)\n",
    "        image=image/255.0\n",
    "        testset.append([image,count])         \n",
    "    count=count+1"
   ]
  },
  {
   "cell_type": "code",
   "execution_count": 6,
   "metadata": {},
   "outputs": [],
   "source": [
    "data,labels0=zip(*dataset)\n",
    "test,testlabels0=zip(*testset)"
   ]
  },
  {
   "cell_type": "code",
   "execution_count": 7,
   "metadata": {},
   "outputs": [
    {
     "name": "stdout",
     "output_type": "stream",
     "text": [
      "(2870, 150, 150, 3)\n",
      "(2870, 4)\n"
     ]
    }
   ],
   "source": [
    "labels1=to_categorical(labels0)\n",
    "data=np.array(data)\n",
    "labels=np.array(labels1)\n",
    "print(data.shape)\n",
    "print(labels.shape)"
   ]
  },
  {
   "cell_type": "code",
   "execution_count": 8,
   "metadata": {},
   "outputs": [
    {
     "name": "stdout",
     "output_type": "stream",
     "text": [
      "(394, 150, 150, 3)\n",
      "(394, 4)\n"
     ]
    }
   ],
   "source": [
    "testlabels1=to_categorical(testlabels0)\n",
    "test=np.array(test)\n",
    "testlabels=np.array(testlabels1)\n",
    "print(test.shape)\n",
    "print(testlabels.shape)"
   ]
  },
  {
   "cell_type": "code",
   "execution_count": 9,
   "metadata": {},
   "outputs": [],
   "source": [
    "data2=data.reshape(-1,150,150,3)\n",
    "test2=test.reshape(-1,150,150,3)"
   ]
  },
  {
   "cell_type": "code",
   "execution_count": 10,
   "metadata": {},
   "outputs": [],
   "source": [
    "trainx,testx,trainy,testy=train_test_split(data,labels,test_size=0.2,random_state=44)"
   ]
  },
  {
   "cell_type": "code",
   "execution_count": 11,
   "metadata": {},
   "outputs": [
    {
     "name": "stdout",
     "output_type": "stream",
     "text": [
      "(2296, 150, 150, 3)\n",
      "(574, 150, 150, 3)\n",
      "(2296, 4)\n",
      "(574, 4)\n"
     ]
    }
   ],
   "source": [
    "print(trainx.shape)\n",
    "print(testx.shape)\n",
    "print(trainy.shape)\n",
    "print(testy.shape)"
   ]
  },
  {
   "cell_type": "code",
   "execution_count": 12,
   "metadata": {},
   "outputs": [],
   "source": [
    "datagen = ImageDataGenerator(horizontal_flip=True,vertical_flip=True,rotation_range=20,zoom_range=0.2,\n",
    "                    width_shift_range=0.2,height_shift_range=0.2,shear_range=0.1,fill_mode=\"nearest\")"
   ]
  },
  {
   "cell_type": "code",
   "execution_count": 13,
   "metadata": {},
   "outputs": [],
   "source": [
    "pretrained_model3 = tf.keras.applications.DenseNet201(input_shape=(150,150,3),include_top=False,weights='imagenet',pooling='avg')\n",
    "pretrained_model3.trainable = False"
   ]
  },
  {
   "cell_type": "code",
   "execution_count": 14,
   "metadata": {},
   "outputs": [],
   "source": [
    "inputs3 = pretrained_model3.input\n",
    "x3 = tf.keras.layers.Dense(128, activation='relu')(pretrained_model3.output)\n",
    "outputs3 = tf.keras.layers.Dense(4, activation='softmax')(x3)\n",
    "model = tf.keras.Model(inputs=inputs3, outputs=outputs3)\n",
    "model.compile(loss = 'categorical_crossentropy', optimizer='adam', metrics=['accuracy'])"
   ]
  },
  {
   "cell_type": "code",
   "execution_count": 15,
   "metadata": {},
   "outputs": [
    {
     "name": "stdout",
     "output_type": "stream",
     "text": [
      "Epoch 1/30\n",
      "72/72 [==============================] - 229s 3s/step - loss: 0.7820 - accuracy: 0.6790 - val_loss: 0.5832 - val_accuracy: 0.7683\n",
      "Epoch 2/30\n",
      "72/72 [==============================] - 204s 3s/step - loss: 0.5170 - accuracy: 0.8031 - val_loss: 0.5850 - val_accuracy: 0.7718\n",
      "Epoch 3/30\n",
      "72/72 [==============================] - 201s 3s/step - loss: 0.4970 - accuracy: 0.8079 - val_loss: 0.5354 - val_accuracy: 0.7875\n",
      "Epoch 4/30\n",
      "72/72 [==============================] - 208s 3s/step - loss: 0.4476 - accuracy: 0.8262 - val_loss: 0.5050 - val_accuracy: 0.8206\n",
      "Epoch 5/30\n",
      "72/72 [==============================] - 212s 3s/step - loss: 0.4188 - accuracy: 0.8371 - val_loss: 0.4865 - val_accuracy: 0.8293\n",
      "Epoch 6/30\n",
      "72/72 [==============================] - 212s 3s/step - loss: 0.3898 - accuracy: 0.8489 - val_loss: 0.4924 - val_accuracy: 0.8101\n",
      "Epoch 7/30\n",
      "72/72 [==============================] - 206s 3s/step - loss: 0.3779 - accuracy: 0.8550 - val_loss: 0.5586 - val_accuracy: 0.7944\n",
      "Epoch 8/30\n",
      "72/72 [==============================] - 202s 3s/step - loss: 0.4128 - accuracy: 0.8415 - val_loss: 0.4698 - val_accuracy: 0.8101\n",
      "Epoch 9/30\n",
      "72/72 [==============================] - 209s 3s/step - loss: 0.3668 - accuracy: 0.8554 - val_loss: 0.5347 - val_accuracy: 0.7857\n",
      "Epoch 10/30\n",
      "72/72 [==============================] - 206s 3s/step - loss: 0.3575 - accuracy: 0.8680 - val_loss: 0.4086 - val_accuracy: 0.8484\n",
      "Epoch 11/30\n",
      "72/72 [==============================] - 212s 3s/step - loss: 0.3549 - accuracy: 0.8602 - val_loss: 0.4836 - val_accuracy: 0.8240\n",
      "Epoch 12/30\n",
      "72/72 [==============================] - 207s 3s/step - loss: 0.3231 - accuracy: 0.8776 - val_loss: 0.3938 - val_accuracy: 0.8589\n",
      "Epoch 13/30\n",
      "72/72 [==============================] - 214s 3s/step - loss: 0.3211 - accuracy: 0.8750 - val_loss: 0.6269 - val_accuracy: 0.7857\n",
      "Epoch 14/30\n",
      "72/72 [==============================] - 211s 3s/step - loss: 0.3140 - accuracy: 0.8754 - val_loss: 0.5095 - val_accuracy: 0.8049\n",
      "Epoch 15/30\n",
      "72/72 [==============================] - 206s 3s/step - loss: 0.2969 - accuracy: 0.8850 - val_loss: 0.5246 - val_accuracy: 0.8171\n",
      "Epoch 16/30\n",
      "72/72 [==============================] - 198s 3s/step - loss: 0.2963 - accuracy: 0.8841 - val_loss: 0.4291 - val_accuracy: 0.8345\n",
      "Epoch 17/30\n",
      "72/72 [==============================] - 203s 3s/step - loss: 0.2891 - accuracy: 0.8855 - val_loss: 0.3840 - val_accuracy: 0.8519\n",
      "Epoch 18/30\n",
      "72/72 [==============================] - 220s 3s/step - loss: 0.2966 - accuracy: 0.8855 - val_loss: 0.3773 - val_accuracy: 0.8606\n",
      "Epoch 19/30\n",
      "72/72 [==============================] - 206s 3s/step - loss: 0.2953 - accuracy: 0.8916 - val_loss: 0.3407 - val_accuracy: 0.8728\n",
      "Epoch 20/30\n",
      "72/72 [==============================] - 210s 3s/step - loss: 0.2833 - accuracy: 0.8868 - val_loss: 0.3775 - val_accuracy: 0.8624\n",
      "Epoch 21/30\n",
      "72/72 [==============================] - 195s 3s/step - loss: 0.2847 - accuracy: 0.8942 - val_loss: 0.4729 - val_accuracy: 0.8293\n",
      "Epoch 22/30\n",
      "72/72 [==============================] - 189s 3s/step - loss: 0.2820 - accuracy: 0.8859 - val_loss: 0.3287 - val_accuracy: 0.8780\n",
      "Epoch 23/30\n",
      "72/72 [==============================] - 195s 3s/step - loss: 0.2667 - accuracy: 0.8950 - val_loss: 0.3338 - val_accuracy: 0.8780\n",
      "Epoch 24/30\n",
      "72/72 [==============================] - 215s 3s/step - loss: 0.2471 - accuracy: 0.9094 - val_loss: 0.3381 - val_accuracy: 0.8763\n",
      "Epoch 25/30\n",
      "72/72 [==============================] - 219s 3s/step - loss: 0.2658 - accuracy: 0.8959 - val_loss: 0.4750 - val_accuracy: 0.8310\n",
      "Epoch 26/30\n",
      "72/72 [==============================] - 191s 3s/step - loss: 0.2595 - accuracy: 0.9029 - val_loss: 0.4471 - val_accuracy: 0.8484\n",
      "Epoch 27/30\n",
      "72/72 [==============================] - 242s 3s/step - loss: 0.2595 - accuracy: 0.8950 - val_loss: 0.3093 - val_accuracy: 0.8728\n",
      "Epoch 28/30\n",
      "72/72 [==============================] - 263s 4s/step - loss: 0.2544 - accuracy: 0.9029 - val_loss: 0.3309 - val_accuracy: 0.8815\n",
      "Epoch 29/30\n",
      "72/72 [==============================] - 260s 4s/step - loss: 0.2322 - accuracy: 0.9120 - val_loss: 0.2963 - val_accuracy: 0.8990\n",
      "Epoch 30/30\n",
      "72/72 [==============================] - 260s 4s/step - loss: 0.2430 - accuracy: 0.9011 - val_loss: 0.3512 - val_accuracy: 0.8571\n"
     ]
    }
   ],
   "source": [
    "his=model.fit(datagen.flow(trainx,trainy,batch_size=32),validation_data=(testx,testy),epochs=30)"
   ]
  },
  {
   "cell_type": "code",
   "execution_count": 16,
   "metadata": {},
   "outputs": [
    {
     "name": "stdout",
     "output_type": "stream",
     "text": [
      "              precision    recall  f1-score   support\n",
      "\n",
      "           0       0.95      0.82      0.88       157\n",
      "           1       0.80      0.79      0.79       170\n",
      "           2       0.93      0.81      0.87        81\n",
      "           3       0.82      0.99      0.90       166\n",
      "\n",
      "    accuracy                           0.86       574\n",
      "   macro avg       0.87      0.85      0.86       574\n",
      "weighted avg       0.86      0.86      0.86       574\n",
      "\n"
     ]
    }
   ],
   "source": [
    "y_pred=model.predict(testx)\n",
    "pred=np.argmax(y_pred,axis=1)\n",
    "ground = np.argmax(testy,axis=1)\n",
    "print(classification_report(ground,pred))"
   ]
  },
  {
   "cell_type": "code",
   "execution_count": 17,
   "metadata": {},
   "outputs": [
    {
     "data": {
      "image/png": "[encoded data removed]",
      "text/plain": [
       "<Figure size 432x288 with 1 Axes>"
      ]
     },
     "metadata": {
      "needs_background": "light"
     },
     "output_type": "display_data"
    },
    {
     "data": {
      "text/plain": [
       "<Figure size 432x288 with 0 Axes>"
      ]
     },
     "metadata": {},
     "output_type": "display_data"
    }
   ],
   "source": [
    "get_acc = his.history['accuracy']\n",
    "value_acc = his.history['val_accuracy']\n",
    "get_loss = his.history['loss']\n",
    "validation_loss = his.history['val_loss']\n",
    "\n",
    "epochs = range(len(get_acc))\n",
    "plt.plot(epochs, get_acc, 'r', label='Accuracy of Training data')\n",
    "plt.plot(epochs, value_acc, 'b', label='Accuracy of Validation data')\n",
    "plt.title('Training vs validation accuracy')\n",
    "plt.legend(loc=0)\n",
    "plt.figure()\n",
    "plt.show()"
   ]
  },
  {
   "cell_type": "code",
   "execution_count": 18,
   "metadata": {},
   "outputs": [
    {
     "data": {
      "image/png": "[encoded data removed]",
      "text/plain": [
       "<Figure size 432x288 with 1 Axes>"
      ]
     },
     "metadata": {
      "needs_background": "light"
     },
     "output_type": "display_data"
    },
    {
     "data": {
      "text/plain": [
       "<Figure size 432x288 with 0 Axes>"
      ]
     },
     "metadata": {},
     "output_type": "display_data"
    }
   ],
   "source": [
    "epochs = range(len(get_loss))\n",
    "plt.plot(epochs, get_loss, 'r', label='Loss of Training data')\n",
    "plt.plot(epochs, validation_loss, 'b', label='Loss of Validation data')\n",
    "plt.title('Training vs validation loss')\n",
    "plt.legend(loc=0)\n",
    "plt.figure()\n",
    "plt.show()"
   ]
  },
  {
   "cell_type": "code",
   "execution_count": 19,
   "metadata": {},
   "outputs": [
    {
     "data": {
      "image/png": "[encoded data removed]",
      "text/plain": [
       "<PIL.Image.Image image mode=RGB size=150x150 at 0x1E23F58B130>"
      ]
     },
     "execution_count": 19,
     "metadata": {},
     "output_type": "execute_result"
    }
   ],
   "source": [
    "load_img(\"C:/Users/DELL/Desktop/FDA PROJECT/Dataset/Testing/pituitary_tumor/image(30).jpg\",target_size=(150,150))"
   ]
  },
  {
   "cell_type": "code",
   "execution_count": 20,
   "metadata": {},
   "outputs": [],
   "source": [
    "image=load_img(\"C:/Users/DELL/Desktop/FDA PROJECT/Dataset/Testing/pituitary_tumor/image(30).jpg\",target_size=(150,150))\n",
    "\n",
    "image=img_to_array(image) \n",
    "image=image/255.0\n",
    "prediction_image=np.array(image)\n",
    "prediction_image= np.expand_dims(image, axis=0)"
   ]
  },
  {
   "cell_type": "code",
   "execution_count": 21,
   "metadata": {},
   "outputs": [
    {
     "name": "stdout",
     "output_type": "stream",
     "text": [
      "Prediction is pituitary_tumor.\n"
     ]
    }
   ],
   "source": [
    "reverse_mapping={0:'glioma_tumor', 1:'meningioma_tumor', 2:'no_tumor', 3:'pituitary_tumor'}\n",
    "\n",
    "def mapper(value):\n",
    "    return reverse_mapping[value]\n",
    "\n",
    "prediction=model.predict(prediction_image)\n",
    "value=np.argmax(prediction)\n",
    "move_name=mapper(value)\n",
    "print(\"Prediction is {}.\".format(move_name))"
   ]
  },
  {
   "cell_type": "code",
   "execution_count": 22,
   "metadata": {},
   "outputs": [
    {
     "name": "stdout",
     "output_type": "stream",
     "text": [
      "(394, 150, 150, 3)\n",
      "(394, 4)\n"
     ]
    }
   ],
   "source": [
    "print(test.shape)\n",
    "prediction2=model.predict(test)\n",
    "print(prediction2.shape)\n",
    "\n",
    "PRED=[]\n",
    "for item in prediction2:\n",
    "    value2=np.argmax(item)      \n",
    "    PRED+=[value2]"
   ]
  },
  {
   "cell_type": "code",
   "execution_count": 23,
   "metadata": {},
   "outputs": [],
   "source": [
    "ANS=testlabels0"
   ]
  },
  {
   "cell_type": "code",
   "execution_count": 24,
   "metadata": {},
   "outputs": [
    {
     "name": "stdout",
     "output_type": "stream",
     "text": [
      "0.733502538071066\n"
     ]
    }
   ],
   "source": [
    "accuracy=accuracy_score(ANS,PRED)\n",
    "print(accuracy)"
   ]
  }
 ],
 "metadata": {
  "kernelspec": {
   "display_name": "Python 3",
   "language": "python",
   "name": "python3"
  },
  "language_info": {
   "codemirror_mode": {
    "name": "ipython",
    "version": 3
   },
   "file_extension": ".py",
   "mimetype": "text/x-python",
   "name": "python",
   "nbconvert_exporter": "python",
   "pygments_lexer": "ipython3",
   "version": "3.8.5"
  }
 },
 "nbformat": 4,
 "nbformat_minor": 4
}
